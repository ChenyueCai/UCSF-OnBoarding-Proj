{
  "nbformat": 4,
  "nbformat_minor": 0,
  "metadata": {
    "colab": {
      "name": "ucsf-onbroading proj.ipynb",
      "provenance": [],
      "collapsed_sections": [],
      "authorship_tag": "ABX9TyOvC1wx0kAHvgpZbJJsuXgd",
      "include_colab_link": true
    },
    "kernelspec": {
      "name": "python3",
      "display_name": "Python 3"
    }
  },
  "cells": [
    {
      "cell_type": "markdown",
      "metadata": {
        "id": "view-in-github",
        "colab_type": "text"
      },
      "source": [
        "<a href=\"https://colab.research.google.com/github/ChenyueCai/UCSF-OnBoarding-Proj/blob/master/ucsf_onbroading_proj.ipynb\" target=\"_parent\"><img src=\"https://colab.research.google.com/assets/colab-badge.svg\" alt=\"Open In Colab\"/></a>"
      ]
    },
    {
      "cell_type": "code",
      "metadata": {
        "id": "cIJkzZvRvUfT",
        "outputId": "10236194-3508-4a8a-b3ce-2daad93234f2",
        "colab": {
          "base_uri": "https://localhost:8080/",
          "height": 102
        }
      },
      "source": [
        "! pip install pydicom"
      ],
      "execution_count": 2,
      "outputs": [
        {
          "output_type": "stream",
          "text": [
            "Collecting pydicom\n",
            "\u001b[?25l  Downloading https://files.pythonhosted.org/packages/d3/56/342e1f8ce5afe63bf65c23d0b2c1cd5a05600caad1c211c39725d3a4cc56/pydicom-2.0.0-py3-none-any.whl (35.4MB)\n",
            "\u001b[K     |████████████████████████████████| 35.5MB 119kB/s \n",
            "\u001b[?25hInstalling collected packages: pydicom\n",
            "Successfully installed pydicom-2.0.0\n"
          ],
          "name": "stdout"
        }
      ]
    },
    {
      "cell_type": "markdown",
      "metadata": {
        "id": "2xyGmaYGwmkR"
      },
      "source": [
        "Write a function that can load DICOM or PNG file and then convert them to user specified image size (ex: 299 x 299 or 229x229) numpy files. The DICOM files may be compressed or uncompresed. This function needs to be user-friendly and should be able to stand on its own. The image re-sizing can be done by SKlearn or other library.\n",
        "5) Combine the numpy file with breast density information (binary) to create numpyZ files."
      ]
    },
    {
      "cell_type": "code",
      "metadata": {
        "id": "wbaAClc3wojk",
        "outputId": "f883adc5-2b0e-432f-e643-d3656ac33c83",
        "colab": {
          "base_uri": "https://localhost:8080/",
          "height": 592
        }
      },
      "source": [
        "\"\"\"\n",
        "=======================================\n",
        "Read DICOM and ploting using matplotlib\n",
        "=======================================\n",
        "\n",
        "This example illustrates how to open a DICOM file, print some dataset\n",
        "information, and show it using matplotlib.\n",
        "\n",
        "\"\"\"\n",
        "\n",
        "# authors : Guillaume Lemaitre <g.lemaitre58@gmail.com>\n",
        "# license : MIT\n",
        "\n",
        "import matplotlib.pyplot as plt\n",
        "import pydicom\n",
        "from pydicom.data import get_testdata_files\n",
        "\n",
        "print(__doc__)\n",
        "\n",
        "filename = '1-2.dcm'\n",
        "dataset = pydicom.dcmread('1-2.dcm')\n",
        "\n",
        "# Normal mode:\n",
        "print()\n",
        "print(\"Filename.........:\", filename)\n",
        "print(\"Storage type.....:\", dataset.SOPClassUID)\n",
        "print()\n",
        "\n",
        "pat_name = dataset.PatientName\n",
        "display_name = pat_name.family_name + \", \" + pat_name.given_name\n",
        "print(\"Patient's name...:\", display_name)\n",
        "print(\"Patient id.......:\", dataset.PatientID)\n",
        "print(\"Modality.........:\", dataset.Modality)\n",
        "print(\"Study Date.......:\", dataset.StudyDate)\n",
        "\n",
        "if 'PixelData' in dataset:\n",
        "    rows = int(dataset.Rows)\n",
        "    cols = int(dataset.Columns)\n",
        "    print(\"Image size.......: {rows:d} x {cols:d}, {size:d} bytes\".format(\n",
        "        rows=rows, cols=cols, size=len(dataset.PixelData)))\n",
        "    if 'PixelSpacing' in dataset:\n",
        "        print(\"Pixel spacing....:\", dataset.PixelSpacing)\n",
        "\n",
        "# use .get() if not sure the item exists, and want a default value if missing\n",
        "print(\"Slice location...:\", dataset.get('SliceLocation', \"(missing)\"))\n",
        "\n",
        "# plot the image using matplotlib\n",
        "plt.imshow(dataset.pixel_array, cmap=plt.cm.bone)\n",
        "plt.show()\n"
      ],
      "execution_count": 12,
      "outputs": [
        {
          "output_type": "stream",
          "text": [
            "\n",
            "=======================================\n",
            "Read DICOM and ploting using matplotlib\n",
            "=======================================\n",
            "\n",
            "This example illustrates how to open a DICOM file, print some dataset\n",
            "information, and show it using matplotlib.\n",
            "\n",
            "\n",
            "\n",
            "Filename.........: 1-2.dcm\n",
            "Storage type.....: 1.2.840.10008.5.1.4.1.1.7\n",
            "\n",
            "Patient's name...: P_00038, P_00038\n",
            "Patient id.......: P_00038_LEFT_CC_1.dcm\n",
            "Modality.........: MG\n",
            "Study Date.......: \n",
            "Image size.......: 4616 x 3016, 13921856 bytes\n",
            "Slice location...: (missing)\n"
          ],
          "name": "stdout"
        },
        {
          "output_type": "display_data",
          "data": {
            "image/png": "[encoded data removed]",
            "text/plain": [
              "<Figure size 432x288 with 1 Axes>"
            ]
          },
          "metadata": {
            "tags": [],
            "needs_background": "light"
          }
        }
      ]
    },
    {
      "cell_type": "code",
      "metadata": {
        "id": "XdL9Y1k29qWk"
      },
      "source": [
        " "
      ],
      "execution_count": null,
      "outputs": []
    }
  ]
}